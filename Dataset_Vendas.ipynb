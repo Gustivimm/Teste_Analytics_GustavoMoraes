{
  "nbformat": 4,
  "nbformat_minor": 0,
  "metadata": {
    "colab": {
      "provenance": []
    },
    "kernelspec": {
      "name": "python3",
      "display_name": "Python 3"
    },
    "language_info": {
      "name": "python"
    }
  },
  "cells": [
    {
      "cell_type": "markdown",
      "source": [
        "# Preparando os dados"
      ],
      "metadata": {
        "id": "QQq99Nu2gBhU"
      }
    },
    {
      "cell_type": "markdown",
      "source": [
        "## Realizando a Importação das Bibliotecas"
      ],
      "metadata": {
        "id": "L7dPMb88gEpz"
      }
    },
    {
      "cell_type": "code",
      "execution_count": 151,
      "metadata": {
        "id": "PPcRoVxQ-bU9"
      },
      "outputs": [],
      "source": [
        "import pandas as pd\n",
        "import numpy as np\n",
        "import random\n",
        "import matplotlib.pyplot as plt\n",
        "from datetime import datetime, timedelta"
      ]
    },
    {
      "cell_type": "markdown",
      "source": [
        "## Criando/Simulando o Dataset"
      ],
      "metadata": {
        "id": "e5L1T5trgKoq"
      }
    },
    {
      "cell_type": "code",
      "source": [
        "# Criação dos produtos e categorias. Pode ser adicionado/retirado qualquer produto/categoria.\n",
        "produtos = [\"Teclado\", \"Mouse\", \"Monitor\", \"Impressora\", \"Cadeira\", \"Mesa\", \"Headset\", \"Webcam\", \"Notebook\"]\n",
        "categorias = {\n",
        "    \"Teclado\": \"Periféricos\",\n",
        "    \"Mouse\": \"Periféricos\",\n",
        "    \"Monitor\": \"Display\",\n",
        "    \"Impressora\": \"Impressão\",\n",
        "    \"Cadeira\": \"Mobiliário\",\n",
        "    \"Mesa\": \"Mobiliário\",\n",
        "    \"Headset\": \"Áudio\",\n",
        "    \"Webcam\": \"Vídeo\",\n",
        "    \"Notebook\": \"Computadores\"\n",
        "}"
      ],
      "metadata": {
        "id": "x8lEnj6GGjE1"
      },
      "execution_count": 152,
      "outputs": []
    },
    {
      "cell_type": "code",
      "source": [
        "# Setando as datas de início e fim pedidas.\n",
        "data_de_inicio = datetime(2023, 1, 1)\n",
        "data_de_fim = datetime(2023, 12, 31)\n",
        "\n",
        "# Criando função para gerar datas aleatórias (para o dataset).\n",
        "def datas_aleatorias(inicio, fim):\n",
        "    delta = fim - inicio\n",
        "    dias = random.randint(0, delta.days)\n",
        "    return inicio + timedelta(days=dias)"
      ],
      "metadata": {
        "id": "2m1jBBr6HyM_"
      },
      "execution_count": 153,
      "outputs": []
    },
    {
      "cell_type": "code",
      "source": [
        "# Criando uma lista para colocar as informações sobre o dataset.\n",
        "dados = []\n",
        "# Loop para colocar os itens necessários com valores aleatórios.\n",
        "for i in range(50):\n",
        "  produto = random.choice(produtos)\n",
        "  dados.append([\n",
        "    i + 1,\n",
        "    datas_aleatorias(data_de_inicio, data_de_fim),\n",
        "    produto,\n",
        "    categorias[produto],\n",
        "    random.randint(1, 20),\n",
        "    round(random.uniform(10.0, 2000.0), 2)\n",
        "  ])\n",
        "\n",
        "df = pd.DataFrame(dados, columns=[\"ID\", \"Data\", \"Produto\", \"Categoria\", \"Quantidade\", \"Preço\"])"
      ],
      "metadata": {
        "id": "RNhFd6XzIH-V"
      },
      "execution_count": 154,
      "outputs": []
    },
    {
      "cell_type": "code",
      "source": [
        "# Função para exemplificar os nulos e as duplicatas.\n",
        "def inserir_nans_e_duplicatas(df):\n",
        "  linhas_para_duplicar = []\n",
        "  for i in range(0, len(df), 10):\n",
        "    if random.choice([True, False]):\n",
        "      df.loc[i, \"Preço\"] = np.nan\n",
        "  for i in range(0, len(df), 10):\n",
        "    if random.choice([True, False]):\n",
        "      df.loc[i, \"Categoria\"] = np.nan\n",
        "  n_duplicatas = max(1, int(len(df) * 0.1))\n",
        "  linhas_para_duplicar = df.sample(n_duplicatas, replace=False)\n",
        "  df = pd.concat([df, linhas_para_duplicar], ignore_index=True)\n",
        "  return df\n",
        "\n",
        "df = inserir_nans_e_duplicatas(df)"
      ],
      "metadata": {
        "id": "lLKppJ6ZJC9T"
      },
      "execution_count": 155,
      "outputs": []
    },
    {
      "cell_type": "code",
      "source": [
        "df.head(15)"
      ],
      "metadata": {
        "colab": {
          "base_uri": "https://localhost:8080/",
          "height": 519
        },
        "id": "Ukja0u02IQLJ",
        "outputId": "a025ad1f-d319-4f30-e331-54ff4d69792a"
      },
      "execution_count": 156,
      "outputs": [
        {
          "output_type": "execute_result",
          "data": {
            "text/plain": [
              "    ID       Data   Produto     Categoria  Quantidade    Preço\n",
              "0    1 2023-03-20      Mesa    Mobiliário          13   901.94\n",
              "1    2 2023-01-15   Cadeira    Mobiliário           9   526.30\n",
              "2    3 2023-06-18   Teclado   Periféricos          18   674.27\n",
              "3    4 2023-05-20   Teclado   Periféricos           5    77.98\n",
              "4    5 2023-09-01     Mouse   Periféricos           6   821.75\n",
              "5    6 2023-09-22  Notebook  Computadores          11  1789.80\n",
              "6    7 2023-12-16   Teclado   Periféricos          12   769.13\n",
              "7    8 2023-02-04      Mesa    Mobiliário          14   529.80\n",
              "8    9 2023-07-12     Mouse   Periféricos          20   902.17\n",
              "9   10 2023-03-08     Mouse   Periféricos           9    73.27\n",
              "10  11 2023-09-07   Headset         Áudio           4   590.65\n",
              "11  12 2023-10-11     Mouse   Periféricos          14   358.25\n",
              "12  13 2023-04-23   Teclado   Periféricos           7   779.56\n",
              "13  14 2023-03-01   Cadeira    Mobiliário           4   452.81\n",
              "14  15 2023-07-28   Monitor       Display          15  1833.52"
            ],
            "text/html": [
              "\n",
              "  <div id=\"df-cce5e91c-8091-498a-a313-d1eeec398557\" class=\"colab-df-container\">\n",
              "    <div>\n",
              "<style scoped>\n",
              "    .dataframe tbody tr th:only-of-type {\n",
              "        vertical-align: middle;\n",
              "    }\n",
              "\n",
              "    .dataframe tbody tr th {\n",
              "        vertical-align: top;\n",
              "    }\n",
              "\n",
              "    .dataframe thead th {\n",
              "        text-align: right;\n",
              "    }\n",
              "</style>\n",
              "<table border=\"1\" class=\"dataframe\">\n",
              "  <thead>\n",
              "    <tr style=\"text-align: right;\">\n",
              "      <th></th>\n",
              "      <th>ID</th>\n",
              "      <th>Data</th>\n",
              "      <th>Produto</th>\n",
              "      <th>Categoria</th>\n",
              "      <th>Quantidade</th>\n",
              "      <th>Preço</th>\n",
              "    </tr>\n",
              "  </thead>\n",
              "  <tbody>\n",
              "    <tr>\n",
              "      <th>0</th>\n",
              "      <td>1</td>\n",
              "      <td>2023-03-20</td>\n",
              "      <td>Mesa</td>\n",
              "      <td>Mobiliário</td>\n",
              "      <td>13</td>\n",
              "      <td>901.94</td>\n",
              "    </tr>\n",
              "    <tr>\n",
              "      <th>1</th>\n",
              "      <td>2</td>\n",
              "      <td>2023-01-15</td>\n",
              "      <td>Cadeira</td>\n",
              "      <td>Mobiliário</td>\n",
              "      <td>9</td>\n",
              "      <td>526.30</td>\n",
              "    </tr>\n",
              "    <tr>\n",
              "      <th>2</th>\n",
              "      <td>3</td>\n",
              "      <td>2023-06-18</td>\n",
              "      <td>Teclado</td>\n",
              "      <td>Periféricos</td>\n",
              "      <td>18</td>\n",
              "      <td>674.27</td>\n",
              "    </tr>\n",
              "    <tr>\n",
              "      <th>3</th>\n",
              "      <td>4</td>\n",
              "      <td>2023-05-20</td>\n",
              "      <td>Teclado</td>\n",
              "      <td>Periféricos</td>\n",
              "      <td>5</td>\n",
              "      <td>77.98</td>\n",
              "    </tr>\n",
              "    <tr>\n",
              "      <th>4</th>\n",
              "      <td>5</td>\n",
              "      <td>2023-09-01</td>\n",
              "      <td>Mouse</td>\n",
              "      <td>Periféricos</td>\n",
              "      <td>6</td>\n",
              "      <td>821.75</td>\n",
              "    </tr>\n",
              "    <tr>\n",
              "      <th>5</th>\n",
              "      <td>6</td>\n",
              "      <td>2023-09-22</td>\n",
              "      <td>Notebook</td>\n",
              "      <td>Computadores</td>\n",
              "      <td>11</td>\n",
              "      <td>1789.80</td>\n",
              "    </tr>\n",
              "    <tr>\n",
              "      <th>6</th>\n",
              "      <td>7</td>\n",
              "      <td>2023-12-16</td>\n",
              "      <td>Teclado</td>\n",
              "      <td>Periféricos</td>\n",
              "      <td>12</td>\n",
              "      <td>769.13</td>\n",
              "    </tr>\n",
              "    <tr>\n",
              "      <th>7</th>\n",
              "      <td>8</td>\n",
              "      <td>2023-02-04</td>\n",
              "      <td>Mesa</td>\n",
              "      <td>Mobiliário</td>\n",
              "      <td>14</td>\n",
              "      <td>529.80</td>\n",
              "    </tr>\n",
              "    <tr>\n",
              "      <th>8</th>\n",
              "      <td>9</td>\n",
              "      <td>2023-07-12</td>\n",
              "      <td>Mouse</td>\n",
              "      <td>Periféricos</td>\n",
              "      <td>20</td>\n",
              "      <td>902.17</td>\n",
              "    </tr>\n",
              "    <tr>\n",
              "      <th>9</th>\n",
              "      <td>10</td>\n",
              "      <td>2023-03-08</td>\n",
              "      <td>Mouse</td>\n",
              "      <td>Periféricos</td>\n",
              "      <td>9</td>\n",
              "      <td>73.27</td>\n",
              "    </tr>\n",
              "    <tr>\n",
              "      <th>10</th>\n",
              "      <td>11</td>\n",
              "      <td>2023-09-07</td>\n",
              "      <td>Headset</td>\n",
              "      <td>Áudio</td>\n",
              "      <td>4</td>\n",
              "      <td>590.65</td>\n",
              "    </tr>\n",
              "    <tr>\n",
              "      <th>11</th>\n",
              "      <td>12</td>\n",
              "      <td>2023-10-11</td>\n",
              "      <td>Mouse</td>\n",
              "      <td>Periféricos</td>\n",
              "      <td>14</td>\n",
              "      <td>358.25</td>\n",
              "    </tr>\n",
              "    <tr>\n",
              "      <th>12</th>\n",
              "      <td>13</td>\n",
              "      <td>2023-04-23</td>\n",
              "      <td>Teclado</td>\n",
              "      <td>Periféricos</td>\n",
              "      <td>7</td>\n",
              "      <td>779.56</td>\n",
              "    </tr>\n",
              "    <tr>\n",
              "      <th>13</th>\n",
              "      <td>14</td>\n",
              "      <td>2023-03-01</td>\n",
              "      <td>Cadeira</td>\n",
              "      <td>Mobiliário</td>\n",
              "      <td>4</td>\n",
              "      <td>452.81</td>\n",
              "    </tr>\n",
              "    <tr>\n",
              "      <th>14</th>\n",
              "      <td>15</td>\n",
              "      <td>2023-07-28</td>\n",
              "      <td>Monitor</td>\n",
              "      <td>Display</td>\n",
              "      <td>15</td>\n",
              "      <td>1833.52</td>\n",
              "    </tr>\n",
              "  </tbody>\n",
              "</table>\n",
              "</div>\n",
              "    <div class=\"colab-df-buttons\">\n",
              "\n",
              "  <div class=\"colab-df-container\">\n",
              "    <button class=\"colab-df-convert\" onclick=\"convertToInteractive('df-cce5e91c-8091-498a-a313-d1eeec398557')\"\n",
              "            title=\"Convert this dataframe to an interactive table.\"\n",
              "            style=\"display:none;\">\n",
              "\n",
              "  <svg xmlns=\"http://www.w3.org/2000/svg\" height=\"24px\" viewBox=\"0 -960 960 960\">\n",
              "    <path d=\"M120-120v-720h720v720H120Zm60-500h600v-160H180v160Zm220 220h160v-160H400v160Zm0 220h160v-160H400v160ZM180-400h160v-160H180v160Zm440 0h160v-160H620v160ZM180-180h160v-160H180v160Zm440 0h160v-160H620v160Z\"/>\n",
              "  </svg>\n",
              "    </button>\n",
              "\n",
              "  <style>\n",
              "    .colab-df-container {\n",
              "      display:flex;\n",
              "      gap: 12px;\n",
              "    }\n",
              "\n",
              "    .colab-df-convert {\n",
              "      background-color: #E8F0FE;\n",
              "      border: none;\n",
              "      border-radius: 50%;\n",
              "      cursor: pointer;\n",
              "      display: none;\n",
              "      fill: #1967D2;\n",
              "      height: 32px;\n",
              "      padding: 0 0 0 0;\n",
              "      width: 32px;\n",
              "    }\n",
              "\n",
              "    .colab-df-convert:hover {\n",
              "      background-color: #E2EBFA;\n",
              "      box-shadow: 0px 1px 2px rgba(60, 64, 67, 0.3), 0px 1px 3px 1px rgba(60, 64, 67, 0.15);\n",
              "      fill: #174EA6;\n",
              "    }\n",
              "\n",
              "    .colab-df-buttons div {\n",
              "      margin-bottom: 4px;\n",
              "    }\n",
              "\n",
              "    [theme=dark] .colab-df-convert {\n",
              "      background-color: #3B4455;\n",
              "      fill: #D2E3FC;\n",
              "    }\n",
              "\n",
              "    [theme=dark] .colab-df-convert:hover {\n",
              "      background-color: #434B5C;\n",
              "      box-shadow: 0px 1px 3px 1px rgba(0, 0, 0, 0.15);\n",
              "      filter: drop-shadow(0px 1px 2px rgba(0, 0, 0, 0.3));\n",
              "      fill: #FFFFFF;\n",
              "    }\n",
              "  </style>\n",
              "\n",
              "    <script>\n",
              "      const buttonEl =\n",
              "        document.querySelector('#df-cce5e91c-8091-498a-a313-d1eeec398557 button.colab-df-convert');\n",
              "      buttonEl.style.display =\n",
              "        google.colab.kernel.accessAllowed ? 'block' : 'none';\n",
              "\n",
              "      async function convertToInteractive(key) {\n",
              "        const element = document.querySelector('#df-cce5e91c-8091-498a-a313-d1eeec398557');\n",
              "        const dataTable =\n",
              "          await google.colab.kernel.invokeFunction('convertToInteractive',\n",
              "                                                    [key], {});\n",
              "        if (!dataTable) return;\n",
              "\n",
              "        const docLinkHtml = 'Like what you see? Visit the ' +\n",
              "          '<a target=\"_blank\" href=https://colab.research.google.com/notebooks/data_table.ipynb>data table notebook</a>'\n",
              "          + ' to learn more about interactive tables.';\n",
              "        element.innerHTML = '';\n",
              "        dataTable['output_type'] = 'display_data';\n",
              "        await google.colab.output.renderOutput(dataTable, element);\n",
              "        const docLink = document.createElement('div');\n",
              "        docLink.innerHTML = docLinkHtml;\n",
              "        element.appendChild(docLink);\n",
              "      }\n",
              "    </script>\n",
              "  </div>\n",
              "\n",
              "\n",
              "    <div id=\"df-a8eff044-677e-47de-9b30-c5f7a956d17b\">\n",
              "      <button class=\"colab-df-quickchart\" onclick=\"quickchart('df-a8eff044-677e-47de-9b30-c5f7a956d17b')\"\n",
              "                title=\"Suggest charts\"\n",
              "                style=\"display:none;\">\n",
              "\n",
              "<svg xmlns=\"http://www.w3.org/2000/svg\" height=\"24px\"viewBox=\"0 0 24 24\"\n",
              "     width=\"24px\">\n",
              "    <g>\n",
              "        <path d=\"M19 3H5c-1.1 0-2 .9-2 2v14c0 1.1.9 2 2 2h14c1.1 0 2-.9 2-2V5c0-1.1-.9-2-2-2zM9 17H7v-7h2v7zm4 0h-2V7h2v10zm4 0h-2v-4h2v4z\"/>\n",
              "    </g>\n",
              "</svg>\n",
              "      </button>\n",
              "\n",
              "<style>\n",
              "  .colab-df-quickchart {\n",
              "      --bg-color: #E8F0FE;\n",
              "      --fill-color: #1967D2;\n",
              "      --hover-bg-color: #E2EBFA;\n",
              "      --hover-fill-color: #174EA6;\n",
              "      --disabled-fill-color: #AAA;\n",
              "      --disabled-bg-color: #DDD;\n",
              "  }\n",
              "\n",
              "  [theme=dark] .colab-df-quickchart {\n",
              "      --bg-color: #3B4455;\n",
              "      --fill-color: #D2E3FC;\n",
              "      --hover-bg-color: #434B5C;\n",
              "      --hover-fill-color: #FFFFFF;\n",
              "      --disabled-bg-color: #3B4455;\n",
              "      --disabled-fill-color: #666;\n",
              "  }\n",
              "\n",
              "  .colab-df-quickchart {\n",
              "    background-color: var(--bg-color);\n",
              "    border: none;\n",
              "    border-radius: 50%;\n",
              "    cursor: pointer;\n",
              "    display: none;\n",
              "    fill: var(--fill-color);\n",
              "    height: 32px;\n",
              "    padding: 0;\n",
              "    width: 32px;\n",
              "  }\n",
              "\n",
              "  .colab-df-quickchart:hover {\n",
              "    background-color: var(--hover-bg-color);\n",
              "    box-shadow: 0 1px 2px rgba(60, 64, 67, 0.3), 0 1px 3px 1px rgba(60, 64, 67, 0.15);\n",
              "    fill: var(--button-hover-fill-color);\n",
              "  }\n",
              "\n",
              "  .colab-df-quickchart-complete:disabled,\n",
              "  .colab-df-quickchart-complete:disabled:hover {\n",
              "    background-color: var(--disabled-bg-color);\n",
              "    fill: var(--disabled-fill-color);\n",
              "    box-shadow: none;\n",
              "  }\n",
              "\n",
              "  .colab-df-spinner {\n",
              "    border: 2px solid var(--fill-color);\n",
              "    border-color: transparent;\n",
              "    border-bottom-color: var(--fill-color);\n",
              "    animation:\n",
              "      spin 1s steps(1) infinite;\n",
              "  }\n",
              "\n",
              "  @keyframes spin {\n",
              "    0% {\n",
              "      border-color: transparent;\n",
              "      border-bottom-color: var(--fill-color);\n",
              "      border-left-color: var(--fill-color);\n",
              "    }\n",
              "    20% {\n",
              "      border-color: transparent;\n",
              "      border-left-color: var(--fill-color);\n",
              "      border-top-color: var(--fill-color);\n",
              "    }\n",
              "    30% {\n",
              "      border-color: transparent;\n",
              "      border-left-color: var(--fill-color);\n",
              "      border-top-color: var(--fill-color);\n",
              "      border-right-color: var(--fill-color);\n",
              "    }\n",
              "    40% {\n",
              "      border-color: transparent;\n",
              "      border-right-color: var(--fill-color);\n",
              "      border-top-color: var(--fill-color);\n",
              "    }\n",
              "    60% {\n",
              "      border-color: transparent;\n",
              "      border-right-color: var(--fill-color);\n",
              "    }\n",
              "    80% {\n",
              "      border-color: transparent;\n",
              "      border-right-color: var(--fill-color);\n",
              "      border-bottom-color: var(--fill-color);\n",
              "    }\n",
              "    90% {\n",
              "      border-color: transparent;\n",
              "      border-bottom-color: var(--fill-color);\n",
              "    }\n",
              "  }\n",
              "</style>\n",
              "\n",
              "      <script>\n",
              "        async function quickchart(key) {\n",
              "          const quickchartButtonEl =\n",
              "            document.querySelector('#' + key + ' button');\n",
              "          quickchartButtonEl.disabled = true;  // To prevent multiple clicks.\n",
              "          quickchartButtonEl.classList.add('colab-df-spinner');\n",
              "          try {\n",
              "            const charts = await google.colab.kernel.invokeFunction(\n",
              "                'suggestCharts', [key], {});\n",
              "          } catch (error) {\n",
              "            console.error('Error during call to suggestCharts:', error);\n",
              "          }\n",
              "          quickchartButtonEl.classList.remove('colab-df-spinner');\n",
              "          quickchartButtonEl.classList.add('colab-df-quickchart-complete');\n",
              "        }\n",
              "        (() => {\n",
              "          let quickchartButtonEl =\n",
              "            document.querySelector('#df-a8eff044-677e-47de-9b30-c5f7a956d17b button');\n",
              "          quickchartButtonEl.style.display =\n",
              "            google.colab.kernel.accessAllowed ? 'block' : 'none';\n",
              "        })();\n",
              "      </script>\n",
              "    </div>\n",
              "\n",
              "    </div>\n",
              "  </div>\n"
            ],
            "application/vnd.google.colaboratory.intrinsic+json": {
              "type": "dataframe",
              "variable_name": "df",
              "summary": "{\n  \"name\": \"df\",\n  \"rows\": 55,\n  \"fields\": [\n    {\n      \"column\": \"ID\",\n      \"properties\": {\n        \"dtype\": \"number\",\n        \"std\": 14,\n        \"min\": 1,\n        \"max\": 50,\n        \"num_unique_values\": 50,\n        \"samples\": [\n          14,\n          40,\n          31\n        ],\n        \"semantic_type\": \"\",\n        \"description\": \"\"\n      }\n    },\n    {\n      \"column\": \"Data\",\n      \"properties\": {\n        \"dtype\": \"date\",\n        \"min\": \"2023-01-03 00:00:00\",\n        \"max\": \"2023-12-31 00:00:00\",\n        \"num_unique_values\": 46,\n        \"samples\": [\n          \"2023-12-31 00:00:00\",\n          \"2023-01-26 00:00:00\",\n          \"2023-03-18 00:00:00\"\n        ],\n        \"semantic_type\": \"\",\n        \"description\": \"\"\n      }\n    },\n    {\n      \"column\": \"Produto\",\n      \"properties\": {\n        \"dtype\": \"category\",\n        \"num_unique_values\": 9,\n        \"samples\": [\n          \"Webcam\",\n          \"Cadeira\",\n          \"Headset\"\n        ],\n        \"semantic_type\": \"\",\n        \"description\": \"\"\n      }\n    },\n    {\n      \"column\": \"Categoria\",\n      \"properties\": {\n        \"dtype\": \"category\",\n        \"num_unique_values\": 7,\n        \"samples\": [\n          \"Mobili\\u00e1rio\",\n          \"Perif\\u00e9ricos\",\n          \"V\\u00eddeo\"\n        ],\n        \"semantic_type\": \"\",\n        \"description\": \"\"\n      }\n    },\n    {\n      \"column\": \"Quantidade\",\n      \"properties\": {\n        \"dtype\": \"number\",\n        \"std\": 5,\n        \"min\": 1,\n        \"max\": 20,\n        \"num_unique_values\": 18,\n        \"samples\": [\n          13,\n          9,\n          20\n        ],\n        \"semantic_type\": \"\",\n        \"description\": \"\"\n      }\n    },\n    {\n      \"column\": \"Pre\\u00e7o\",\n      \"properties\": {\n        \"dtype\": \"number\",\n        \"std\": 614.0698541596882,\n        \"min\": 73.27,\n        \"max\": 1949.38,\n        \"num_unique_values\": 49,\n        \"samples\": [\n          452.81,\n          1644.54,\n          1435.52\n        ],\n        \"semantic_type\": \"\",\n        \"description\": \"\"\n      }\n    }\n  ]\n}"
            }
          },
          "metadata": {},
          "execution_count": 156
        }
      ]
    },
    {
      "cell_type": "markdown",
      "source": [
        "# Limpeza e Análise de Dados de Vendas"
      ],
      "metadata": {
        "id": "2lZdrKqnjKLl"
      }
    },
    {
      "cell_type": "markdown",
      "source": [
        "## Limpando e Padronizando os Dados"
      ],
      "metadata": {
        "id": "Ga2BCRFRlD7t"
      }
    },
    {
      "cell_type": "code",
      "source": [
        "# Tratamento dos valores nulos. O primeiro código é usado quando não se tem o map feito anteriormente ou se é desconhecida as possíveis categorias. O segundo código é usado quando se tem um map e conhce todas as possíveis categorias.\n",
        "## df[\"Categoria\"].fillna(\"Desconhecido\", inplace=True)\n",
        "df[\"Categoria\"] = df.apply(lambda row: categorias.get(row[\"Produto\"], \"Sem Categoria\") if pd.isna(row[\"Categoria\"]) else row[\"Categoria\"], axis=1)"
      ],
      "metadata": {
        "id": "Ulio7UENIRpL"
      },
      "execution_count": 157,
      "outputs": []
    },
    {
      "cell_type": "code",
      "source": [
        "# Removendo valores nulos e duplicatas. O valores nulos são removidos pois a coluna \"preço\" é de suma importância para a análise e não há como trata-la (existem métodos de média ou padronizando colocando 0 em todos. Mas nesse caso, preferiu-se eliminar).\n",
        "df.dropna(inplace=True)\n",
        "df.drop_duplicates(inplace=True)"
      ],
      "metadata": {
        "id": "1ZEZjU3jLo2g"
      },
      "execution_count": 158,
      "outputs": []
    },
    {
      "cell_type": "code",
      "source": [
        "df.head(15)"
      ],
      "metadata": {
        "colab": {
          "base_uri": "https://localhost:8080/",
          "height": 519
        },
        "id": "JU2BWZafMaxa",
        "outputId": "334878a2-ccfa-443d-e6d8-20d80033acfa"
      },
      "execution_count": 159,
      "outputs": [
        {
          "output_type": "execute_result",
          "data": {
            "text/plain": [
              "    ID       Data   Produto     Categoria  Quantidade    Preço\n",
              "0    1 2023-03-20      Mesa    Mobiliário          13   901.94\n",
              "1    2 2023-01-15   Cadeira    Mobiliário           9   526.30\n",
              "2    3 2023-06-18   Teclado   Periféricos          18   674.27\n",
              "3    4 2023-05-20   Teclado   Periféricos           5    77.98\n",
              "4    5 2023-09-01     Mouse   Periféricos           6   821.75\n",
              "5    6 2023-09-22  Notebook  Computadores          11  1789.80\n",
              "6    7 2023-12-16   Teclado   Periféricos          12   769.13\n",
              "7    8 2023-02-04      Mesa    Mobiliário          14   529.80\n",
              "8    9 2023-07-12     Mouse   Periféricos          20   902.17\n",
              "9   10 2023-03-08     Mouse   Periféricos           9    73.27\n",
              "10  11 2023-09-07   Headset         Áudio           4   590.65\n",
              "11  12 2023-10-11     Mouse   Periféricos          14   358.25\n",
              "12  13 2023-04-23   Teclado   Periféricos           7   779.56\n",
              "13  14 2023-03-01   Cadeira    Mobiliário           4   452.81\n",
              "14  15 2023-07-28   Monitor       Display          15  1833.52"
            ],
            "text/html": [
              "\n",
              "  <div id=\"df-322383f5-c8cd-41c8-9dbe-d6635da770c7\" class=\"colab-df-container\">\n",
              "    <div>\n",
              "<style scoped>\n",
              "    .dataframe tbody tr th:only-of-type {\n",
              "        vertical-align: middle;\n",
              "    }\n",
              "\n",
              "    .dataframe tbody tr th {\n",
              "        vertical-align: top;\n",
              "    }\n",
              "\n",
              "    .dataframe thead th {\n",
              "        text-align: right;\n",
              "    }\n",
              "</style>\n",
              "<table border=\"1\" class=\"dataframe\">\n",
              "  <thead>\n",
              "    <tr style=\"text-align: right;\">\n",
              "      <th></th>\n",
              "      <th>ID</th>\n",
              "      <th>Data</th>\n",
              "      <th>Produto</th>\n",
              "      <th>Categoria</th>\n",
              "      <th>Quantidade</th>\n",
              "      <th>Preço</th>\n",
              "    </tr>\n",
              "  </thead>\n",
              "  <tbody>\n",
              "    <tr>\n",
              "      <th>0</th>\n",
              "      <td>1</td>\n",
              "      <td>2023-03-20</td>\n",
              "      <td>Mesa</td>\n",
              "      <td>Mobiliário</td>\n",
              "      <td>13</td>\n",
              "      <td>901.94</td>\n",
              "    </tr>\n",
              "    <tr>\n",
              "      <th>1</th>\n",
              "      <td>2</td>\n",
              "      <td>2023-01-15</td>\n",
              "      <td>Cadeira</td>\n",
              "      <td>Mobiliário</td>\n",
              "      <td>9</td>\n",
              "      <td>526.30</td>\n",
              "    </tr>\n",
              "    <tr>\n",
              "      <th>2</th>\n",
              "      <td>3</td>\n",
              "      <td>2023-06-18</td>\n",
              "      <td>Teclado</td>\n",
              "      <td>Periféricos</td>\n",
              "      <td>18</td>\n",
              "      <td>674.27</td>\n",
              "    </tr>\n",
              "    <tr>\n",
              "      <th>3</th>\n",
              "      <td>4</td>\n",
              "      <td>2023-05-20</td>\n",
              "      <td>Teclado</td>\n",
              "      <td>Periféricos</td>\n",
              "      <td>5</td>\n",
              "      <td>77.98</td>\n",
              "    </tr>\n",
              "    <tr>\n",
              "      <th>4</th>\n",
              "      <td>5</td>\n",
              "      <td>2023-09-01</td>\n",
              "      <td>Mouse</td>\n",
              "      <td>Periféricos</td>\n",
              "      <td>6</td>\n",
              "      <td>821.75</td>\n",
              "    </tr>\n",
              "    <tr>\n",
              "      <th>5</th>\n",
              "      <td>6</td>\n",
              "      <td>2023-09-22</td>\n",
              "      <td>Notebook</td>\n",
              "      <td>Computadores</td>\n",
              "      <td>11</td>\n",
              "      <td>1789.80</td>\n",
              "    </tr>\n",
              "    <tr>\n",
              "      <th>6</th>\n",
              "      <td>7</td>\n",
              "      <td>2023-12-16</td>\n",
              "      <td>Teclado</td>\n",
              "      <td>Periféricos</td>\n",
              "      <td>12</td>\n",
              "      <td>769.13</td>\n",
              "    </tr>\n",
              "    <tr>\n",
              "      <th>7</th>\n",
              "      <td>8</td>\n",
              "      <td>2023-02-04</td>\n",
              "      <td>Mesa</td>\n",
              "      <td>Mobiliário</td>\n",
              "      <td>14</td>\n",
              "      <td>529.80</td>\n",
              "    </tr>\n",
              "    <tr>\n",
              "      <th>8</th>\n",
              "      <td>9</td>\n",
              "      <td>2023-07-12</td>\n",
              "      <td>Mouse</td>\n",
              "      <td>Periféricos</td>\n",
              "      <td>20</td>\n",
              "      <td>902.17</td>\n",
              "    </tr>\n",
              "    <tr>\n",
              "      <th>9</th>\n",
              "      <td>10</td>\n",
              "      <td>2023-03-08</td>\n",
              "      <td>Mouse</td>\n",
              "      <td>Periféricos</td>\n",
              "      <td>9</td>\n",
              "      <td>73.27</td>\n",
              "    </tr>\n",
              "    <tr>\n",
              "      <th>10</th>\n",
              "      <td>11</td>\n",
              "      <td>2023-09-07</td>\n",
              "      <td>Headset</td>\n",
              "      <td>Áudio</td>\n",
              "      <td>4</td>\n",
              "      <td>590.65</td>\n",
              "    </tr>\n",
              "    <tr>\n",
              "      <th>11</th>\n",
              "      <td>12</td>\n",
              "      <td>2023-10-11</td>\n",
              "      <td>Mouse</td>\n",
              "      <td>Periféricos</td>\n",
              "      <td>14</td>\n",
              "      <td>358.25</td>\n",
              "    </tr>\n",
              "    <tr>\n",
              "      <th>12</th>\n",
              "      <td>13</td>\n",
              "      <td>2023-04-23</td>\n",
              "      <td>Teclado</td>\n",
              "      <td>Periféricos</td>\n",
              "      <td>7</td>\n",
              "      <td>779.56</td>\n",
              "    </tr>\n",
              "    <tr>\n",
              "      <th>13</th>\n",
              "      <td>14</td>\n",
              "      <td>2023-03-01</td>\n",
              "      <td>Cadeira</td>\n",
              "      <td>Mobiliário</td>\n",
              "      <td>4</td>\n",
              "      <td>452.81</td>\n",
              "    </tr>\n",
              "    <tr>\n",
              "      <th>14</th>\n",
              "      <td>15</td>\n",
              "      <td>2023-07-28</td>\n",
              "      <td>Monitor</td>\n",
              "      <td>Display</td>\n",
              "      <td>15</td>\n",
              "      <td>1833.52</td>\n",
              "    </tr>\n",
              "  </tbody>\n",
              "</table>\n",
              "</div>\n",
              "    <div class=\"colab-df-buttons\">\n",
              "\n",
              "  <div class=\"colab-df-container\">\n",
              "    <button class=\"colab-df-convert\" onclick=\"convertToInteractive('df-322383f5-c8cd-41c8-9dbe-d6635da770c7')\"\n",
              "            title=\"Convert this dataframe to an interactive table.\"\n",
              "            style=\"display:none;\">\n",
              "\n",
              "  <svg xmlns=\"http://www.w3.org/2000/svg\" height=\"24px\" viewBox=\"0 -960 960 960\">\n",
              "    <path d=\"M120-120v-720h720v720H120Zm60-500h600v-160H180v160Zm220 220h160v-160H400v160Zm0 220h160v-160H400v160ZM180-400h160v-160H180v160Zm440 0h160v-160H620v160ZM180-180h160v-160H180v160Zm440 0h160v-160H620v160Z\"/>\n",
              "  </svg>\n",
              "    </button>\n",
              "\n",
              "  <style>\n",
              "    .colab-df-container {\n",
              "      display:flex;\n",
              "      gap: 12px;\n",
              "    }\n",
              "\n",
              "    .colab-df-convert {\n",
              "      background-color: #E8F0FE;\n",
              "      border: none;\n",
              "      border-radius: 50%;\n",
              "      cursor: pointer;\n",
              "      display: none;\n",
              "      fill: #1967D2;\n",
              "      height: 32px;\n",
              "      padding: 0 0 0 0;\n",
              "      width: 32px;\n",
              "    }\n",
              "\n",
              "    .colab-df-convert:hover {\n",
              "      background-color: #E2EBFA;\n",
              "      box-shadow: 0px 1px 2px rgba(60, 64, 67, 0.3), 0px 1px 3px 1px rgba(60, 64, 67, 0.15);\n",
              "      fill: #174EA6;\n",
              "    }\n",
              "\n",
              "    .colab-df-buttons div {\n",
              "      margin-bottom: 4px;\n",
              "    }\n",
              "\n",
              "    [theme=dark] .colab-df-convert {\n",
              "      background-color: #3B4455;\n",
              "      fill: #D2E3FC;\n",
              "    }\n",
              "\n",
              "    [theme=dark] .colab-df-convert:hover {\n",
              "      background-color: #434B5C;\n",
              "      box-shadow: 0px 1px 3px 1px rgba(0, 0, 0, 0.15);\n",
              "      filter: drop-shadow(0px 1px 2px rgba(0, 0, 0, 0.3));\n",
              "      fill: #FFFFFF;\n",
              "    }\n",
              "  </style>\n",
              "\n",
              "    <script>\n",
              "      const buttonEl =\n",
              "        document.querySelector('#df-322383f5-c8cd-41c8-9dbe-d6635da770c7 button.colab-df-convert');\n",
              "      buttonEl.style.display =\n",
              "        google.colab.kernel.accessAllowed ? 'block' : 'none';\n",
              "\n",
              "      async function convertToInteractive(key) {\n",
              "        const element = document.querySelector('#df-322383f5-c8cd-41c8-9dbe-d6635da770c7');\n",
              "        const dataTable =\n",
              "          await google.colab.kernel.invokeFunction('convertToInteractive',\n",
              "                                                    [key], {});\n",
              "        if (!dataTable) return;\n",
              "\n",
              "        const docLinkHtml = 'Like what you see? Visit the ' +\n",
              "          '<a target=\"_blank\" href=https://colab.research.google.com/notebooks/data_table.ipynb>data table notebook</a>'\n",
              "          + ' to learn more about interactive tables.';\n",
              "        element.innerHTML = '';\n",
              "        dataTable['output_type'] = 'display_data';\n",
              "        await google.colab.output.renderOutput(dataTable, element);\n",
              "        const docLink = document.createElement('div');\n",
              "        docLink.innerHTML = docLinkHtml;\n",
              "        element.appendChild(docLink);\n",
              "      }\n",
              "    </script>\n",
              "  </div>\n",
              "\n",
              "\n",
              "    <div id=\"df-6c47b27b-efe8-4df9-a270-e6d785c1c657\">\n",
              "      <button class=\"colab-df-quickchart\" onclick=\"quickchart('df-6c47b27b-efe8-4df9-a270-e6d785c1c657')\"\n",
              "                title=\"Suggest charts\"\n",
              "                style=\"display:none;\">\n",
              "\n",
              "<svg xmlns=\"http://www.w3.org/2000/svg\" height=\"24px\"viewBox=\"0 0 24 24\"\n",
              "     width=\"24px\">\n",
              "    <g>\n",
              "        <path d=\"M19 3H5c-1.1 0-2 .9-2 2v14c0 1.1.9 2 2 2h14c1.1 0 2-.9 2-2V5c0-1.1-.9-2-2-2zM9 17H7v-7h2v7zm4 0h-2V7h2v10zm4 0h-2v-4h2v4z\"/>\n",
              "    </g>\n",
              "</svg>\n",
              "      </button>\n",
              "\n",
              "<style>\n",
              "  .colab-df-quickchart {\n",
              "      --bg-color: #E8F0FE;\n",
              "      --fill-color: #1967D2;\n",
              "      --hover-bg-color: #E2EBFA;\n",
              "      --hover-fill-color: #174EA6;\n",
              "      --disabled-fill-color: #AAA;\n",
              "      --disabled-bg-color: #DDD;\n",
              "  }\n",
              "\n",
              "  [theme=dark] .colab-df-quickchart {\n",
              "      --bg-color: #3B4455;\n",
              "      --fill-color: #D2E3FC;\n",
              "      --hover-bg-color: #434B5C;\n",
              "      --hover-fill-color: #FFFFFF;\n",
              "      --disabled-bg-color: #3B4455;\n",
              "      --disabled-fill-color: #666;\n",
              "  }\n",
              "\n",
              "  .colab-df-quickchart {\n",
              "    background-color: var(--bg-color);\n",
              "    border: none;\n",
              "    border-radius: 50%;\n",
              "    cursor: pointer;\n",
              "    display: none;\n",
              "    fill: var(--fill-color);\n",
              "    height: 32px;\n",
              "    padding: 0;\n",
              "    width: 32px;\n",
              "  }\n",
              "\n",
              "  .colab-df-quickchart:hover {\n",
              "    background-color: var(--hover-bg-color);\n",
              "    box-shadow: 0 1px 2px rgba(60, 64, 67, 0.3), 0 1px 3px 1px rgba(60, 64, 67, 0.15);\n",
              "    fill: var(--button-hover-fill-color);\n",
              "  }\n",
              "\n",
              "  .colab-df-quickchart-complete:disabled,\n",
              "  .colab-df-quickchart-complete:disabled:hover {\n",
              "    background-color: var(--disabled-bg-color);\n",
              "    fill: var(--disabled-fill-color);\n",
              "    box-shadow: none;\n",
              "  }\n",
              "\n",
              "  .colab-df-spinner {\n",
              "    border: 2px solid var(--fill-color);\n",
              "    border-color: transparent;\n",
              "    border-bottom-color: var(--fill-color);\n",
              "    animation:\n",
              "      spin 1s steps(1) infinite;\n",
              "  }\n",
              "\n",
              "  @keyframes spin {\n",
              "    0% {\n",
              "      border-color: transparent;\n",
              "      border-bottom-color: var(--fill-color);\n",
              "      border-left-color: var(--fill-color);\n",
              "    }\n",
              "    20% {\n",
              "      border-color: transparent;\n",
              "      border-left-color: var(--fill-color);\n",
              "      border-top-color: var(--fill-color);\n",
              "    }\n",
              "    30% {\n",
              "      border-color: transparent;\n",
              "      border-left-color: var(--fill-color);\n",
              "      border-top-color: var(--fill-color);\n",
              "      border-right-color: var(--fill-color);\n",
              "    }\n",
              "    40% {\n",
              "      border-color: transparent;\n",
              "      border-right-color: var(--fill-color);\n",
              "      border-top-color: var(--fill-color);\n",
              "    }\n",
              "    60% {\n",
              "      border-color: transparent;\n",
              "      border-right-color: var(--fill-color);\n",
              "    }\n",
              "    80% {\n",
              "      border-color: transparent;\n",
              "      border-right-color: var(--fill-color);\n",
              "      border-bottom-color: var(--fill-color);\n",
              "    }\n",
              "    90% {\n",
              "      border-color: transparent;\n",
              "      border-bottom-color: var(--fill-color);\n",
              "    }\n",
              "  }\n",
              "</style>\n",
              "\n",
              "      <script>\n",
              "        async function quickchart(key) {\n",
              "          const quickchartButtonEl =\n",
              "            document.querySelector('#' + key + ' button');\n",
              "          quickchartButtonEl.disabled = true;  // To prevent multiple clicks.\n",
              "          quickchartButtonEl.classList.add('colab-df-spinner');\n",
              "          try {\n",
              "            const charts = await google.colab.kernel.invokeFunction(\n",
              "                'suggestCharts', [key], {});\n",
              "          } catch (error) {\n",
              "            console.error('Error during call to suggestCharts:', error);\n",
              "          }\n",
              "          quickchartButtonEl.classList.remove('colab-df-spinner');\n",
              "          quickchartButtonEl.classList.add('colab-df-quickchart-complete');\n",
              "        }\n",
              "        (() => {\n",
              "          let quickchartButtonEl =\n",
              "            document.querySelector('#df-6c47b27b-efe8-4df9-a270-e6d785c1c657 button');\n",
              "          quickchartButtonEl.style.display =\n",
              "            google.colab.kernel.accessAllowed ? 'block' : 'none';\n",
              "        })();\n",
              "      </script>\n",
              "    </div>\n",
              "\n",
              "    </div>\n",
              "  </div>\n"
            ],
            "application/vnd.google.colaboratory.intrinsic+json": {
              "type": "dataframe",
              "variable_name": "df",
              "summary": "{\n  \"name\": \"df\",\n  \"rows\": 49,\n  \"fields\": [\n    {\n      \"column\": \"ID\",\n      \"properties\": {\n        \"dtype\": \"number\",\n        \"std\": 14,\n        \"min\": 1,\n        \"max\": 50,\n        \"num_unique_values\": 49,\n        \"samples\": [\n          14,\n          47,\n          49\n        ],\n        \"semantic_type\": \"\",\n        \"description\": \"\"\n      }\n    },\n    {\n      \"column\": \"Data\",\n      \"properties\": {\n        \"dtype\": \"date\",\n        \"min\": \"2023-01-03 00:00:00\",\n        \"max\": \"2023-12-31 00:00:00\",\n        \"num_unique_values\": 45,\n        \"samples\": [\n          \"2023-03-29 00:00:00\",\n          \"2023-01-26 00:00:00\",\n          \"2023-03-18 00:00:00\"\n        ],\n        \"semantic_type\": \"\",\n        \"description\": \"\"\n      }\n    },\n    {\n      \"column\": \"Produto\",\n      \"properties\": {\n        \"dtype\": \"category\",\n        \"num_unique_values\": 9,\n        \"samples\": [\n          \"Webcam\",\n          \"Cadeira\",\n          \"Headset\"\n        ],\n        \"semantic_type\": \"\",\n        \"description\": \"\"\n      }\n    },\n    {\n      \"column\": \"Categoria\",\n      \"properties\": {\n        \"dtype\": \"category\",\n        \"num_unique_values\": 7,\n        \"samples\": [\n          \"Mobili\\u00e1rio\",\n          \"Perif\\u00e9ricos\",\n          \"V\\u00eddeo\"\n        ],\n        \"semantic_type\": \"\",\n        \"description\": \"\"\n      }\n    },\n    {\n      \"column\": \"Quantidade\",\n      \"properties\": {\n        \"dtype\": \"number\",\n        \"std\": 5,\n        \"min\": 1,\n        \"max\": 20,\n        \"num_unique_values\": 18,\n        \"samples\": [\n          13,\n          9,\n          20\n        ],\n        \"semantic_type\": \"\",\n        \"description\": \"\"\n      }\n    },\n    {\n      \"column\": \"Pre\\u00e7o\",\n      \"properties\": {\n        \"dtype\": \"number\",\n        \"std\": 604.322473522346,\n        \"min\": 73.27,\n        \"max\": 1949.38,\n        \"num_unique_values\": 49,\n        \"samples\": [\n          452.81,\n          1644.54,\n          1435.52\n        ],\n        \"semantic_type\": \"\",\n        \"description\": \"\"\n      }\n    }\n  ]\n}"
            }
          },
          "metadata": {},
          "execution_count": 159
        }
      ]
    },
    {
      "cell_type": "code",
      "source": [
        "# Convertendo os dados para os tipos corretos.\n",
        "df[\"Data\"] = pd.to_datetime(df[\"Data\"], errors=\"coerce\")\n",
        "df[\"Quantidade\"] = df[\"Quantidade\"].astype(int)\n",
        "df[\"Preço\"] = df[\"Preço\"].astype(float)"
      ],
      "metadata": {
        "id": "3PsV_avpMQaK"
      },
      "execution_count": 160,
      "outputs": []
    },
    {
      "cell_type": "code",
      "source": [
        "# Salvando o arquivo.\n",
        "df.to_csv(\"data_clean.csv\", index=False)"
      ],
      "metadata": {
        "id": "YxgiZ_lVMS8c"
      },
      "execution_count": 161,
      "outputs": []
    },
    {
      "cell_type": "markdown",
      "source": [
        "## Análise de Dados de Vendas"
      ],
      "metadata": {
        "id": "3-jMfsM-lteI"
      }
    },
    {
      "cell_type": "code",
      "source": [
        "# Criando o total de vendas por produto.\n",
        "df[\"Total_Vendas\"] = df[\"Quantidade\"] * df[\"Preço\"]\n",
        "total_vendas_produto = df.groupby(\"Produto\")[\"Total_Vendas\"].sum().sort_values(ascending=False)"
      ],
      "metadata": {
        "id": "59EdlWr2Mh1Z"
      },
      "execution_count": 162,
      "outputs": []
    },
    {
      "cell_type": "code",
      "source": [
        "# Identicando o produto com maior número de vendas.\n",
        "maior_produto = total_vendas_produto.idxmax()\n",
        "maior_valor = total_vendas_produto.max()\n",
        "print(f\"{maior_produto} - R$ {round(maior_valor, 2)}\")"
      ],
      "metadata": {
        "colab": {
          "base_uri": "https://localhost:8080/"
        },
        "id": "5PsDfbaTMiPF",
        "outputId": "3453f1a2-296f-403d-8192-aa0abe46d0cf"
      },
      "execution_count": 163,
      "outputs": [
        {
          "output_type": "stream",
          "name": "stdout",
          "text": [
            "Notebook - R$ 83422.75\n"
          ]
        }
      ]
    },
    {
      "cell_type": "markdown",
      "source": [
        "# Análise Exploratória de Dados de Vendas"
      ],
      "metadata": {
        "id": "m8cgleI5mVGl"
      }
    },
    {
      "cell_type": "markdown",
      "source": [
        "## Vendas por Período"
      ],
      "metadata": {
        "id": "qFKdsjR0mWTd"
      }
    },
    {
      "cell_type": "code",
      "source": [
        "# Criando o dataset por mês.\n",
        "df_mensal = df.groupby(df['Data'].dt.to_period('M')).agg({\"Total_Vendas\": \"sum\"}).reset_index()\n",
        "df_mensal['Data'] = df_mensal['Data'].dt.to_timestamp()"
      ],
      "metadata": {
        "id": "qMJgcN-lM0yF"
      },
      "execution_count": 164,
      "outputs": []
    },
    {
      "cell_type": "code",
      "source": [
        "# Plotando o gráfico de Vendas ao longo do tempo (Período).\n",
        "plt.figure(figsize=(10,5))\n",
        "plt.plot(df_mensal['Data'], df_mensal['Total_Vendas'], marker='o', linestyle='-')\n",
        "plt.title('Vendas por Período')\n",
        "plt.xlabel('Mês')\n",
        "plt.ylabel('Total de Vendas')\n",
        "plt.grid(True)\n",
        "plt.show()"
      ],
      "metadata": {
        "colab": {
          "base_uri": "https://localhost:8080/",
          "height": 488
        },
        "id": "339GaHXaW0ax",
        "outputId": "d051ef3e-e9dd-465b-ab51-3b998e363e52"
      },
      "execution_count": 165,
      "outputs": [
        {
          "output_type": "display_data",
          "data": {
            "text/plain": [
              "<Figure size 1000x500 with 1 Axes>"
            ],
            "image/png": "[encoded data removed]"
          },
          "metadata": {}
        }
      ]
    },
    {
      "cell_type": "code",
      "source": [
        "# Insights: maior e menor mês e seus valores de vendas.\n",
        "maior_mes = df_mensal.loc[df_mensal['Total_Vendas'].idxmax()]\n",
        "menor_mes = df_mensal.loc[df_mensal['Total_Vendas'].idxmin()]\n",
        "print(f\"{maior_mes['Data'].strftime('%B')} - R$ {round(maior_mes['Total_Vendas'], 2)}\")\n",
        "print(f\"{menor_mes['Data'].strftime('%B')} - R$ {round(menor_mes['Total_Vendas'], 2)}\")"
      ],
      "metadata": {
        "colab": {
          "base_uri": "https://localhost:8080/"
        },
        "id": "iPWZoFqYW1TJ",
        "outputId": "0de1b03e-eea3-4e64-d532-0efbdbb9d3a5"
      },
      "execution_count": 166,
      "outputs": [
        {
          "output_type": "stream",
          "name": "stdout",
          "text": [
            "July - R$ 73071.67\n",
            "October - R$ 5116.13\n"
          ]
        }
      ]
    },
    {
      "cell_type": "markdown",
      "source": [
        "## Preço Médio por Categoria"
      ],
      "metadata": {
        "id": "aFCC1-WeneMN"
      }
    },
    {
      "cell_type": "code",
      "source": [
        "# Plotando o gráfico de preço médio por categoria.\n",
        "preco_medio_categoria = df.groupby(\"Categoria\")[\"Preço\"].mean().sort_values(ascending=False)\n",
        "plt.figure(figsize=(10,5))\n",
        "preco_medio_categoria.plot(kind='bar', color='red')\n",
        "plt.title('Preço Médio por Categoria')\n",
        "plt.ylabel('Preço Médio')\n",
        "plt.xlabel('Categoria')\n",
        "plt.grid(axis='y')\n",
        "plt.show()"
      ],
      "metadata": {
        "colab": {
          "base_uri": "https://localhost:8080/",
          "height": 576
        },
        "id": "_bAHXkjZZ_Dr",
        "outputId": "f0f68eba-8ad0-427d-a0bf-8b2037905055"
      },
      "execution_count": 167,
      "outputs": [
        {
          "output_type": "display_data",
          "data": {
            "text/plain": [
              "<Figure size 1000x500 with 1 Axes>"
            ],
            "image/png": "[encoded data removed]"
          },
          "metadata": {}
        }
      ]
    },
    {
      "cell_type": "code",
      "source": [
        "# Insights: a maior e a menor categoria e os seus preços médios.\n",
        "cat_maior_preco = preco_medio_categoria.idxmax()\n",
        "val_maior_preco = preco_medio_categoria.max()\n",
        "cat_menor_preco = preco_medio_categoria.idxmin()\n",
        "val_menor_preco = preco_medio_categoria.min()\n",
        "print(f\"{cat_maior_preco} - R$ {round(val_maior_preco, 2)}\")\n",
        "print(f\"{cat_menor_preco} - R$ {round(val_menor_preco, 2)}\")"
      ],
      "metadata": {
        "colab": {
          "base_uri": "https://localhost:8080/"
        },
        "id": "EmwSUKMobHbZ",
        "outputId": "2e3073fa-c31a-48e1-977c-21bb1bdc0afe"
      },
      "execution_count": 168,
      "outputs": [
        {
          "output_type": "stream",
          "name": "stdout",
          "text": [
            "Impressão - R$ 1417.26\n",
            "Áudio - R$ 511.29\n"
          ]
        }
      ]
    },
    {
      "cell_type": "markdown",
      "source": [
        "## Quantidade Total Vendida por Produto"
      ],
      "metadata": {
        "id": "WKdrY1PToAgz"
      }
    },
    {
      "cell_type": "code",
      "source": [
        "# Plotando o gráfico de quantidade vendida por produto.\n",
        "quantidade_por_produto = df.groupby(\"Produto\")[\"Quantidade\"].sum().sort_values(ascending=False)\n",
        "plt.figure(figsize=(10,5))\n",
        "quantidade_por_produto.plot(kind='bar', color='green')\n",
        "plt.title('Quantidade Total Vendida por Produto')\n",
        "plt.ylabel('Quantidade')\n",
        "plt.xlabel('Produto')\n",
        "plt.grid(axis='y')\n",
        "plt.show()"
      ],
      "metadata": {
        "colab": {
          "base_uri": "https://localhost:8080/",
          "height": 551
        },
        "id": "6xRVT_H1bd9L",
        "outputId": "1a9f7ad3-9d75-4c65-c713-97592124a735"
      },
      "execution_count": 169,
      "outputs": [
        {
          "output_type": "display_data",
          "data": {
            "text/plain": [
              "<Figure size 1000x500 with 1 Axes>"
            ],
            "image/png": "[encoded data removed]"
          },
          "metadata": {}
        }
      ]
    },
    {
      "cell_type": "code",
      "source": [
        "# Insights: a maior e o menor produto e as suas quantidades vendidas.\n",
        "prod_maior_qtd = quantidade_por_produto.idxmax()\n",
        "val_maior_qtd = quantidade_por_produto.max()\n",
        "prod_menor_qtd = quantidade_por_produto.idxmin()\n",
        "val_menor_qtd = quantidade_por_produto.min()\n",
        "print(f\"{prod_maior_qtd} - {val_maior_qtd}\")\n",
        "print(f\"{prod_menor_qtd} - {val_menor_qtd}\")"
      ],
      "metadata": {
        "colab": {
          "base_uri": "https://localhost:8080/"
        },
        "id": "eDCM7Io8bfj9",
        "outputId": "8a4f9450-99e3-4a98-a2d7-e76b7276b452"
      },
      "execution_count": 170,
      "outputs": [
        {
          "output_type": "stream",
          "name": "stdout",
          "text": [
            "Mouse - 108\n",
            "Headset - 21\n"
          ]
        }
      ]
    }
  ]
}